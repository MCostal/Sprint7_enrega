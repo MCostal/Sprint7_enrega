{
 "cells": [
  {
   "cell_type": "markdown",
   "metadata": {},
   "source": [
    "# NIVEL1\n",
    "\n",
    "## Ejercicio 1\n",
    "### Calculadora del índice de masa corporal\n",
    "\n",
    "Escribe una función que calcule al IMC ingresado por el usuario/a, es decir, quien lo ejecute deberá ingresar estos datos. Puedes obtener más información de su cálculo en:\n",
    "\n",
    "-> Índice de masa corporal IMC que es y como se calcula.\n",
    "\n",
    "La función clasificará el resultado en sus respectivas categorías, IMC;\n",
    "\n",
    "Bajo peso: menos de 18,5.\n",
    "Peso normal: 18,5-24,9.\n",
    "Sobrepeso: 25-29,9.\n",
    "Obesidad: más de 30."
   ]
  },
  {
   "cell_type": "code",
   "execution_count": 3,
   "metadata": {},
   "outputs": [
    {
     "name": "stdout",
     "output_type": "stream",
     "text": [
      "Tu IMC es de: 27.3\n",
      "IMC: Tienes Sobrepeso\n"
     ]
    }
   ],
   "source": [
    "def funcion_entra_datos():\n",
    "        import sys\n",
    "        peso = (input('Entra tu peso en Kg')).replace(',', '.')\n",
    "        peso = round(float(peso),2)\n",
    "        altura = input('Entra tu altura en centimetros')\n",
    "        if altura.count('.') > 0 or altura.count(',') > 0: \n",
    "                print('Revisa las unidades. La altura va en centímetros.')\n",
    "                sys.exit()\n",
    "                #print(altura)\n",
    "        else: altura = int(altura)\n",
    "        return peso, altura\n",
    "        \n",
    "def funcion_calcula_imc(peso, altura):\n",
    "        altura2 = altura/100\n",
    "        imc = round((peso/(altura2*altura2)),1)\n",
    "        print('Tu IMC es de:', imc)\n",
    "        return imc\n",
    "        \n",
    "def funcion_explica_imc(imc):\n",
    "        if imc < 18.5:\n",
    "                mensaje = (print('IMC: Tienes Bajo peso'))\n",
    "        elif imc <= 24.9:\n",
    "                mensaje = (print('IMC: Estás en Peso Normal'))\n",
    "        elif imc <= 29.9:\n",
    "                mensaje = (print('IMC: Tienes Sobrepeso'))\n",
    "        else:\n",
    "                mensaje = (print('IMC: Tienes Obesidad'))\n",
    "        return mensaje\n",
    "        \n",
    "def funcion_indice_masa_corporal():\n",
    "        peso, altura = funcion_entra_datos()\n",
    "        imc = funcion_calcula_imc(peso, altura)\n",
    "        funcion_explica_imc(imc)\n",
    "funcion_indice_masa_corporal()"
   ]
  },
  {
   "cell_type": "markdown",
   "metadata": {},
   "source": [
    "## Ejercicio 2\n",
    "### Conversor de temperaturas.\n",
    "Existen varias unidades de temperatura utilizadas en diferentes contextos y regiones. Las más comunes son Celsius (°C), Fahrenheit (°F) y Kelvin (K). También existen otras unidades como Rankine (°Ra) y Réaumur (°Re). Selecciona al menos 2 conversores, de tal manera que al introducir una temperatura retorne, como mínimo, dos conversiones."
   ]
  },
  {
   "cell_type": "code",
   "execution_count": 2,
   "metadata": {},
   "outputs": [
    {
     "name": "stdout",
     "output_type": "stream",
     "text": [
      "Tu temperatura es: 20.0   c\n",
      "La temperatura final es: 68.0 F y 293.1 K\n"
     ]
    }
   ],
   "source": [
    "import sys\n",
    "ud_entrada = input('En que unidades está tu medida: C, F o K').lower()\n",
    "if ud_entrada not in ('c','f','k'):\n",
    "          print('Debes entrar las unidades de: C, F o K. Prueba de nuevo')\n",
    "          sys.exit(0)\n",
    "temp_entrada = input('Entra el valor de temperatura')\n",
    "temp_entrada = float(temp_entrada.replace(',', '.'))\n",
    "print('Tu temperatura es:', temp_entrada,' ', ud_entrada)\n",
    "\n",
    "def funcion_celsius():\n",
    "          if ud_entrada == 'c':\n",
    "               temp_final = (round(((temp_entrada *1.8)+32),1), round((temp_entrada+273.15),1))\n",
    "               print('La temperatura final es:', temp_final[0], 'F y', temp_final[1], 'K')\n",
    "    \n",
    "def funcion_Farenheit():\n",
    "          if ud_entrada == 'f':\n",
    "               temp_final = (round(((temp_entrada-32)/1.8),1), round((((temp_entrada -32)/1.8)+273.15),1))\n",
    "               print('La temperatura final es:', temp_final[0], 'C y', temp_final[1], 'K')\n",
    "  \n",
    "def funcion_kelvin():\n",
    "          if ud_entrada == 'k':\n",
    "               temp_final = (round((temp_entrada-273.15),1), round((((temp_entrada -273.15)*1.8)+32),1))\n",
    "               print('La temperatura final es:', temp_final[0],'C y', temp_final[1], 'F')\n",
    " \n",
    "def funcion_conversor_temperatura():\n",
    "     funcion_celsius()\n",
    "     funcion_Farenheit()\n",
    "     funcion_kelvin()\n",
    "funcion_conversor_temperatura()"
   ]
  },
  {
   "cell_type": "markdown",
   "metadata": {},
   "source": [
    "## Ejercicio 3\n",
    "### Contador de palabras de un texto.\n",
    "\n",
    "Escribe una función que dado un texto, muestre las veces que aparece cada palabra."
   ]
  },
  {
   "cell_type": "code",
   "execution_count": 44,
   "metadata": {},
   "outputs": [
    {
     "data": {
      "text/plain": [
       "{'azul': 2, 'casa': 1, 'la': 1}"
      ]
     },
     "execution_count": 44,
     "metadata": {},
     "output_type": "execute_result"
    }
   ],
   "source": [
    "#una segunda forma de hacer el ejercicio\n",
    "texto = str(input('Escribe un texto')).lower()\n",
    "def funcion_cuenta_palabras(texto):\n",
    "        from collections import Counter\n",
    "        import re\n",
    "        contenido_sin_puntuacion = re.sub(r'[^\\w\\s]', '', texto) #para quitar las comas,etc\n",
    "        lista = contenido_sin_puntuacion.split()\n",
    "        lista_ord = sorted(lista)\n",
    "        for i in range(len(lista_ord)):\n",
    "                dicc_orden = dict(Counter(lista_ord))\n",
    "        return dicc_orden\n",
    "funcion_cuenta_palabras(texto)"
   ]
  },
  {
   "cell_type": "markdown",
   "metadata": {},
   "source": [
    "## Ejercicio 4\n",
    "### Diccionario inverso.\n",
    "\n",
    "Resulta que el cliente tiene una encuesta muy antigua que se almacena en un diccionario y los resultados los necesita al revés, es decir, intercambiados las claves y los valores. Los valores y claves en el diccionario original son únicos; si este no es el caso, la función debería imprimir un mensaje de advertencia."
   ]
  },
  {
   "cell_type": "code",
   "execution_count": 19,
   "metadata": {},
   "outputs": [
    {
     "name": "stdout",
     "output_type": "stream",
     "text": [
      "Advertencia: Se encontraron valores duplicados: ['white']\n"
     ]
    },
    {
     "data": {
      "text/plain": [
       "{'Ford': 'brand', 'Mustang': 'model', 1964: 'year', 'white': 'color'}"
      ]
     },
     "execution_count": 19,
     "metadata": {},
     "output_type": "execute_result"
    }
   ],
   "source": [
    "dict_original = { \n",
    "            \"brand\":'Ford', \n",
    "            \"model\":'Mustang', \n",
    "            \"year\": 1964, \n",
    "            \"color\":'white',\n",
    "            \"calor\":'white'\n",
    "            }\n",
    "def invertir_dicc(dict_original):\n",
    "    diccionario_invertido = {}\n",
    "    valores_duplicados = []\n",
    "    for key, valor in dict_original.items():\n",
    "        if valor in diccionario_invertido:\n",
    "            valores_duplicados.append(valor)\n",
    "            if valores_duplicados:\n",
    "                print(\"Advertencia: Se encontraron valores duplicados:\", valores_duplicados)  \n",
    "        else:\n",
    "            diccionario_invertido[valor] = key\n",
    "    return diccionario_invertido\n",
    "invertir_dicc(dict_original)"
   ]
  },
  {
   "cell_type": "markdown",
   "metadata": {},
   "source": [
    "# NIVEL2\n",
    "\n",
    "## Ejercicio 1\n",
    "### Diccionario inverso con duplicados\n",
    "\n",
    "Continuando con el ejercicio 4 del nivel 1: al cliente se le olvidó comentar un detalle y resulta que los valores en el diccionario original pueden duplicarse y más, por lo que las claves intercambiadas pueden tener duplicados. En este caso, en el ejercicio anterior imprimías un mensaje de advertencia, ahora, los valores del diccionario resultante deberán almacenarse como una lista. Ten en cuenta que si es un valor único no debe ser una lista.\n",
    "\n"
   ]
  },
  {
   "cell_type": "code",
   "execution_count": 20,
   "metadata": {},
   "outputs": [
    {
     "data": {
      "text/plain": [
       "{'Ford': 'brand', 'Mustang': 'model', 1964: 'year', 'white': ['casa', 'cosa']}"
      ]
     },
     "execution_count": 20,
     "metadata": {},
     "output_type": "execute_result"
    }
   ],
   "source": [
    "dict_original = { \n",
    "            \"brand\":'Ford', \n",
    "            \"model\":'Mustang', \n",
    "            \"year\": 1964, \n",
    "            \"color\":'white',\n",
    "            \"casa\": 'white',\n",
    "            \"cosa\": 'white' \n",
    "            }\n",
    "def invertir_dicc_con_duplicados(dict_original):\n",
    "    diccionario_invertido = {} \n",
    "    valores_duplicados = [] \n",
    "    for key, valor in dict_original.items(): \n",
    "        if valor in diccionario_invertido: \n",
    "            valores_duplicados.append(key) \n",
    "            diccionario_invertido[valor] = valores_duplicados\n",
    "        else:\n",
    "            diccionario_invertido[valor] = key\n",
    "    return(diccionario_invertido)\n",
    "invertir_dicc_con_duplicados(dict_original)"
   ]
  },
  {
   "cell_type": "markdown",
   "metadata": {},
   "source": [
    "## Ejercicio 2\n",
    "### Conversión de tipos de datos\n",
    "\n",
    "El cliente recibe una lista de datos y necesita generar dos listas, la primera donde estarán todos los elementos que se pudieron convertir en flotantes y la otra donde están los elementos que no se pudieron convertir. Ejemplo de la lista que recibe el cliente: [ '1.3', 'one' , '1e10' , 'seven', '3-1/2', ('2',1,1.4,'not-a-number'), [1,2,'3','3.4']]"
   ]
  },
  {
   "cell_type": "code",
   "execution_count": 59,
   "metadata": {},
   "outputs": [
    {
     "data": {
      "text/plain": [
       "(['one', 'seven', '3-1/2', 'not-a-number', 'casa'],\n",
       " [1.3, 10000000000.0, 2.0, 1.0, 1.4, 1.0, 2.0, 3.0, 3.4])"
      ]
     },
     "execution_count": 59,
     "metadata": {},
     "output_type": "execute_result"
    }
   ],
   "source": [
    "#otra forma de hacerlo\n",
    "lista =  ['1.3', 'one' , '1e10' , 'seven', '3-1/2', ('2', 1, 1.4, 'not-a-number'), ['casa', 1, 2, '3', '3.4']]\n",
    "#lista = [4, 2.3, '4', 'coche', ['casa', 1, 2, 3.4]]\n",
    "def aplanar_lista(lista):\n",
    "    resultado = []\n",
    "    def procesar_objeto(objeto):\n",
    "        if isinstance(objeto, (list, tuple)):\n",
    "            for valor in objeto:\n",
    "                procesar_objeto(valor)\n",
    "        else:\n",
    "            resultado.append(objeto)\n",
    "    for objeto in lista:\n",
    "        procesar_objeto(objeto)\n",
    "    return resultado\n",
    "\n",
    "def funcion_float():\n",
    "    lista_num = []\n",
    "    lista_texto = []\n",
    "    lista_plana = aplanar_lista(lista)\n",
    "    for i in range(len(lista_plana)):\n",
    "            try:\n",
    "                valor_float = float(lista_plana[i])\n",
    "                lista_num.append(valor_float)         \n",
    "            except ValueError:\n",
    "                lista_texto.append(lista_plana[i])\n",
    "    return lista_texto, lista_num\n",
    "funcion_float()\n",
    "\n"
   ]
  },
  {
   "cell_type": "markdown",
   "metadata": {},
   "source": [
    "# NIVEL 3\n",
    "### Ejercicio 1: Contador y ordenador de paraulas de un texto.\n",
    "\n",
    "El cliente quedó contento con el contador de paraulas, pero ahora quiere leer archivos TXT y que calcule la frecuéncia de cada paraula ordenadas dentro de las entradas habituales del diccionario según la letra con la cual empieza, és a dir, les claus han d'anar de la A a la Z i dins de la A hem d'anar de la A la Z. "
   ]
  },
  {
   "cell_type": "code",
   "execution_count": 24,
   "metadata": {},
   "outputs": [
    {
     "name": "stdout",
     "output_type": "stream",
     "text": [
      "{'a': {'a': 3, 'agua': 1, 'al': 2, 'alba': 4, 'alcobas': 1, 'alimenta': 1, 'alma': 1, 'amarga': 1, 'azucena': 1}, 'b': {'baco': 1, 'banquete': 1, 'bebe': 1, 'blanca': 3, 'boca': 1, 'bosques': 1, 'buen': 1}, 'c': {'cabañas': 1, 'carnes': 2, 'casta': 3, 'cerrada': 1, 'con': 4, 'conservas': 1, 'copas': 1, 'corola': 1, 'corriste': 1, 'cuando': 2, 'cubierto': 1, 'cuerpo': 1, 'cuáles': 1}, 'd': {'de': 8, 'dejaste': 1, 'del': 1, 'diga': 1, 'dios': 2, 'duerme': 1}, 'e': {'el': 4, 'ellas': 1, 'en': 4, 'engaño': 1, 'enredada': 1, 'entonces': 1, 'escarcha': 1, 'espumas': 1, 'esqueleto': 1, 'estrago': 1}, 'f': {'festejando': 1, 'filtrado': 1, 'frutos': 1}, 'h': {'habla': 1, 'hacia': 1, 'haya': 1, 'hayas': 1, 'hermana': 1, 'hombre': 1, 'hubiste': 1, 'huye': 1}, 'i': {'intacto': 1}, 'j': {'jardines': 1}, 'l': {'la': 3, 'labios': 1, 'las': 7, 'lo': 2, 'los': 4, 'luna': 1, 'lévate': 1, 'límpiate': 1}, 'm': {'mano': 1, 'manos': 1, 'margarita': 1, 'me': 10, 'mi': 1, 'mieles': 1, 'milagros': 1, 'mojada': 1, 'montaña': 1, 'morados': 1}, 'n': {'negros': 1, 'ni': 2, 'no': 1, 'nácar': 1, 'nívea': 2}, 'p': {'perdone': 2, 'perfume': 1, 'por': 2, 'pretendes': 3, 'preténdeme': 3, 'puesto': 1, 'pájaros': 1, 'pámpanos': 1}, 'q': {'que': 6, 'quedó': 1, 'quieres': 6}, 'r': {'rayo': 1, 'raíz': 1, 'renueva': 1, 'rocas': 1, 'rojo': 1}, 's': {'salitre': 1, 'se': 2, 'sea': 1, 'sean': 1, 'sobre': 2, 'sé': 1}, 't': {'te': 3, 'tejidos': 1, 'tenue': 1, 'tierra': 1, 'toca': 1, 'todas': 2, 'todavía': 1, 'tornadas': 1, 'tú': 8}, 'u': {'un': 1, 'una': 1}, 'v': {'vestido': 1, 'vete': 1, 'vive': 1}, 'y': {'y': 5}}\n"
     ]
    }
   ],
   "source": [
    "archivo = open('tu_me_quieres_blanca.txt')\n",
    "texto = archivo.read()\n",
    "archivo.close()\n",
    "dicc_final = {}\n",
    "resultado = funcion_cuenta_palabras(texto)\n",
    "for clave, valor in resultado.items():\n",
    "    inicial = clave[0]\n",
    "    if inicial not in dicc_final:\n",
    "        dicc_final[inicial] = {}\n",
    "    dicc_final[inicial][clave] = valor\n",
    "print(dicc_final)"
   ]
  }
 ],
 "metadata": {
  "kernelspec": {
   "display_name": "base",
   "language": "python",
   "name": "python3"
  },
  "language_info": {
   "codemirror_mode": {
    "name": "ipython",
    "version": 3
   },
   "file_extension": ".py",
   "mimetype": "text/x-python",
   "name": "python",
   "nbconvert_exporter": "python",
   "pygments_lexer": "ipython3",
   "version": "3.11.7"
  }
 },
 "nbformat": 4,
 "nbformat_minor": 2
}
